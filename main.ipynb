{
 "cells": [
  {
   "cell_type": "markdown",
   "metadata": {},
   "source": [
    "<h1 align=\"center\">Tratamiento de datos en Ficheros Fasta<br>Práctica 1</h1>\n",
    "<h3 align=\"center\">Susana Suárez y Ricardo Cárdenes</h3>\n",
    "<hr>"
   ]
  },
  {
   "cell_type": "markdown",
   "metadata": {},
   "source": [
    "Esta práctica consiste en la elaboración de un programa en Python que tome como entrada un fichero FASTA, con varias secuencias de ADN, que haga las siguientes operaciones:\n",
    "\n",
    "- Calcular el porcentaje de nucleótidos **G** y **C** en cada secuencia y lo muestre por pantalla\n",
    "- Producir las cadenas de **aminoácidos** asociadas a **cada secuencia** de ADN\n",
    "- Escribir estas secuencias de aminoácidos en otro **fichero FASTA** con los mismo identificadores que las secuencias de ADN"
   ]
  },
  {
   "cell_type": "markdown",
   "metadata": {},
   "source": [
    "Con el objetico de leer el fichero FASTA, se ha implementado la clase `FastaLoader`, la cual se puede instanciar a traves de la clase `LoaderFactory`, haciendo uso del Factory Method."
   ]
  },
  {
   "cell_type": "code",
   "execution_count": 2,
   "metadata": {},
   "outputs": [],
   "source": [
    "fastaLoader = LoaderFactory.initialize_loader(\"fasta\")"
   ]
  },
  {
   "cell_type": "code",
   "execution_count": 1,
   "metadata": {},
   "outputs": [],
   "source": [
    "from processing.DataLoader import LoaderFactory"
   ]
  },
  {
   "cell_type": "markdown",
   "metadata": {},
   "source": []
  }
 ],
 "metadata": {
  "kernelspec": {
   "display_name": "Python 3",
   "language": "python",
   "name": "python3"
  },
  "language_info": {
   "codemirror_mode": {
    "name": "ipython",
    "version": 3
   },
   "file_extension": ".py",
   "mimetype": "text/x-python",
   "name": "python",
   "nbconvert_exporter": "python",
   "pygments_lexer": "ipython3",
   "version": "3.9.13"
  }
 },
 "nbformat": 4,
 "nbformat_minor": 2
}
